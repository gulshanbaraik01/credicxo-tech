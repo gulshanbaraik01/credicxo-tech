{
 "cells": [
  {
   "cell_type": "markdown",
   "metadata": {},
   "source": [
    "## Credixco Tech Internship Assessment"
   ]
  },
  {
   "cell_type": "markdown",
   "metadata": {},
   "source": [
    "### Fetch Bank Details using IFSC Code "
   ]
  },
  {
   "cell_type": "markdown",
   "metadata": {},
   "source": [
    "Importing the library"
   ]
  },
  {
   "cell_type": "code",
   "execution_count": 1,
   "metadata": {},
   "outputs": [],
   "source": [
    "import pandas as pd"
   ]
  },
  {
   "cell_type": "markdown",
   "metadata": {},
   "source": [
    "Loading the dataset"
   ]
  },
  {
   "cell_type": "code",
   "execution_count": 4,
   "metadata": {},
   "outputs": [],
   "source": [
    "df = pd.read_csv('https://raw.githubusercontent.com/snarayanank2/indian_banks/master/bank_branches.csv')"
   ]
  },
  {
   "cell_type": "markdown",
   "metadata": {},
   "source": [
    "First few rows using head() function"
   ]
  },
  {
   "cell_type": "code",
   "execution_count": 5,
   "metadata": {},
   "outputs": [
    {
     "data": {
      "text/html": [
       "<div>\n",
       "<style scoped>\n",
       "    .dataframe tbody tr th:only-of-type {\n",
       "        vertical-align: middle;\n",
       "    }\n",
       "\n",
       "    .dataframe tbody tr th {\n",
       "        vertical-align: top;\n",
       "    }\n",
       "\n",
       "    .dataframe thead th {\n",
       "        text-align: right;\n",
       "    }\n",
       "</style>\n",
       "<table border=\"1\" class=\"dataframe\">\n",
       "  <thead>\n",
       "    <tr style=\"text-align: right;\">\n",
       "      <th></th>\n",
       "      <th>ifsc</th>\n",
       "      <th>bank_id</th>\n",
       "      <th>branch</th>\n",
       "      <th>address</th>\n",
       "      <th>city</th>\n",
       "      <th>district</th>\n",
       "      <th>state</th>\n",
       "      <th>bank_name</th>\n",
       "    </tr>\n",
       "  </thead>\n",
       "  <tbody>\n",
       "    <tr>\n",
       "      <th>0</th>\n",
       "      <td>ABHY0065001</td>\n",
       "      <td>60</td>\n",
       "      <td>RTGS-HO</td>\n",
       "      <td>ABHYUDAYA BANK BLDG., B.NO.71, NEHRU NAGAR, KU...</td>\n",
       "      <td>MUMBAI</td>\n",
       "      <td>GREATER MUMBAI</td>\n",
       "      <td>MAHARASHTRA</td>\n",
       "      <td>ABHYUDAYA COOPERATIVE BANK LIMITED</td>\n",
       "    </tr>\n",
       "    <tr>\n",
       "      <th>1</th>\n",
       "      <td>ABHY0065002</td>\n",
       "      <td>60</td>\n",
       "      <td>ABHYUDAYA NAGAR</td>\n",
       "      <td>ABHYUDAYA EDUCATION SOCIETY, OPP. BLDG. NO. 18...</td>\n",
       "      <td>MUMBAI</td>\n",
       "      <td>GREATER MUMBAI</td>\n",
       "      <td>MAHARASHTRA</td>\n",
       "      <td>ABHYUDAYA COOPERATIVE BANK LIMITED</td>\n",
       "    </tr>\n",
       "    <tr>\n",
       "      <th>2</th>\n",
       "      <td>ABHY0065003</td>\n",
       "      <td>60</td>\n",
       "      <td>BAIL BAZAR</td>\n",
       "      <td>KMSPM'S SCHOOL, WADIA ESTATE, BAIL BAZAR-KURLA...</td>\n",
       "      <td>MUMBAI</td>\n",
       "      <td>GREATER MUMBAI</td>\n",
       "      <td>MAHARASHTRA</td>\n",
       "      <td>ABHYUDAYA COOPERATIVE BANK LIMITED</td>\n",
       "    </tr>\n",
       "    <tr>\n",
       "      <th>3</th>\n",
       "      <td>ABHY0065004</td>\n",
       "      <td>60</td>\n",
       "      <td>BHANDUP</td>\n",
       "      <td>CHETNA APARTMENTS, J.M.ROAD, BHANDUP, MUMBAI-4...</td>\n",
       "      <td>MUMBAI</td>\n",
       "      <td>GREATER MUMBAI</td>\n",
       "      <td>MAHARASHTRA</td>\n",
       "      <td>ABHYUDAYA COOPERATIVE BANK LIMITED</td>\n",
       "    </tr>\n",
       "    <tr>\n",
       "      <th>4</th>\n",
       "      <td>ABHY0065005</td>\n",
       "      <td>60</td>\n",
       "      <td>DARUKHANA</td>\n",
       "      <td>POTIA IND.ESTATE, REAY ROAD (E), DARUKHANA, MU...</td>\n",
       "      <td>MUMBAI</td>\n",
       "      <td>GREATER MUMBAI</td>\n",
       "      <td>MAHARASHTRA</td>\n",
       "      <td>ABHYUDAYA COOPERATIVE BANK LIMITED</td>\n",
       "    </tr>\n",
       "  </tbody>\n",
       "</table>\n",
       "</div>"
      ],
      "text/plain": [
       "          ifsc  bank_id           branch  \\\n",
       "0  ABHY0065001       60          RTGS-HO   \n",
       "1  ABHY0065002       60  ABHYUDAYA NAGAR   \n",
       "2  ABHY0065003       60       BAIL BAZAR   \n",
       "3  ABHY0065004       60          BHANDUP   \n",
       "4  ABHY0065005       60        DARUKHANA   \n",
       "\n",
       "                                             address    city        district  \\\n",
       "0  ABHYUDAYA BANK BLDG., B.NO.71, NEHRU NAGAR, KU...  MUMBAI  GREATER MUMBAI   \n",
       "1  ABHYUDAYA EDUCATION SOCIETY, OPP. BLDG. NO. 18...  MUMBAI  GREATER MUMBAI   \n",
       "2  KMSPM'S SCHOOL, WADIA ESTATE, BAIL BAZAR-KURLA...  MUMBAI  GREATER MUMBAI   \n",
       "3  CHETNA APARTMENTS, J.M.ROAD, BHANDUP, MUMBAI-4...  MUMBAI  GREATER MUMBAI   \n",
       "4  POTIA IND.ESTATE, REAY ROAD (E), DARUKHANA, MU...  MUMBAI  GREATER MUMBAI   \n",
       "\n",
       "         state                           bank_name  \n",
       "0  MAHARASHTRA  ABHYUDAYA COOPERATIVE BANK LIMITED  \n",
       "1  MAHARASHTRA  ABHYUDAYA COOPERATIVE BANK LIMITED  \n",
       "2  MAHARASHTRA  ABHYUDAYA COOPERATIVE BANK LIMITED  \n",
       "3  MAHARASHTRA  ABHYUDAYA COOPERATIVE BANK LIMITED  \n",
       "4  MAHARASHTRA  ABHYUDAYA COOPERATIVE BANK LIMITED  "
      ]
     },
     "execution_count": 5,
     "metadata": {},
     "output_type": "execute_result"
    }
   ],
   "source": [
    "df.head()"
   ]
  },
  {
   "cell_type": "code",
   "execution_count": 6,
   "metadata": {},
   "outputs": [
    {
     "name": "stdout",
     "output_type": "stream",
     "text": [
      "ABHY0065001\n"
     ]
    }
   ],
   "source": [
    "ifsc_code = input()\n",
    "\n",
    "val = df.loc[df['ifsc'] == ifsc_code].reset_index()"
   ]
  },
  {
   "cell_type": "markdown",
   "metadata": {},
   "source": [
    "Output->"
   ]
  },
  {
   "cell_type": "code",
   "execution_count": 7,
   "metadata": {},
   "outputs": [
    {
     "data": {
      "text/html": [
       "<div>\n",
       "<style scoped>\n",
       "    .dataframe tbody tr th:only-of-type {\n",
       "        vertical-align: middle;\n",
       "    }\n",
       "\n",
       "    .dataframe tbody tr th {\n",
       "        vertical-align: top;\n",
       "    }\n",
       "\n",
       "    .dataframe thead th {\n",
       "        text-align: right;\n",
       "    }\n",
       "</style>\n",
       "<table border=\"1\" class=\"dataframe\">\n",
       "  <thead>\n",
       "    <tr style=\"text-align: right;\">\n",
       "      <th></th>\n",
       "      <th>index</th>\n",
       "      <th>ifsc</th>\n",
       "      <th>bank_id</th>\n",
       "      <th>branch</th>\n",
       "      <th>address</th>\n",
       "      <th>city</th>\n",
       "      <th>district</th>\n",
       "      <th>state</th>\n",
       "      <th>bank_name</th>\n",
       "    </tr>\n",
       "  </thead>\n",
       "  <tbody>\n",
       "    <tr>\n",
       "      <th>0</th>\n",
       "      <td>0</td>\n",
       "      <td>ABHY0065001</td>\n",
       "      <td>60</td>\n",
       "      <td>RTGS-HO</td>\n",
       "      <td>ABHYUDAYA BANK BLDG., B.NO.71, NEHRU NAGAR, KU...</td>\n",
       "      <td>MUMBAI</td>\n",
       "      <td>GREATER MUMBAI</td>\n",
       "      <td>MAHARASHTRA</td>\n",
       "      <td>ABHYUDAYA COOPERATIVE BANK LIMITED</td>\n",
       "    </tr>\n",
       "  </tbody>\n",
       "</table>\n",
       "</div>"
      ],
      "text/plain": [
       "   index         ifsc  bank_id   branch  \\\n",
       "0      0  ABHY0065001       60  RTGS-HO   \n",
       "\n",
       "                                             address    city        district  \\\n",
       "0  ABHYUDAYA BANK BLDG., B.NO.71, NEHRU NAGAR, KU...  MUMBAI  GREATER MUMBAI   \n",
       "\n",
       "         state                           bank_name  \n",
       "0  MAHARASHTRA  ABHYUDAYA COOPERATIVE BANK LIMITED  "
      ]
     },
     "execution_count": 7,
     "metadata": {},
     "output_type": "execute_result"
    }
   ],
   "source": [
    "val"
   ]
  },
  {
   "cell_type": "markdown",
   "metadata": {},
   "source": [
    "Create dictionary from dataframe->"
   ]
  },
  {
   "cell_type": "code",
   "execution_count": 8,
   "metadata": {},
   "outputs": [
    {
     "name": "stdout",
     "output_type": "stream",
     "text": [
      "{'index': {0: 0}, 'ifsc': {0: 'ABHY0065001'}, 'bank_id': {0: 60}, 'branch': {0: 'RTGS-HO'}, 'address': {0: 'ABHYUDAYA BANK BLDG., B.NO.71, NEHRU NAGAR, KURLA (E), MUMBAI-400024'}, 'city': {0: 'MUMBAI'}, 'district': {0: 'GREATER MUMBAI'}, 'state': {0: 'MAHARASHTRA'}, 'bank_name': {0: 'ABHYUDAYA COOPERATIVE BANK LIMITED'}}\n"
     ]
    }
   ],
   "source": [
    "d = val.to_dict()\n",
    "print(d)"
   ]
  },
  {
   "cell_type": "markdown",
   "metadata": {},
   "source": [
    "Get Bank Id from Dictionary->"
   ]
  },
  {
   "cell_type": "code",
   "execution_count": 9,
   "metadata": {},
   "outputs": [
    {
     "data": {
      "text/plain": [
       "60"
      ]
     },
     "execution_count": 9,
     "metadata": {},
     "output_type": "execute_result"
    }
   ],
   "source": [
    "d['bank_id'][0]"
   ]
  },
  {
   "cell_type": "markdown",
   "metadata": {},
   "source": [
    "### Fetch Bank Details using Bank Name & Bank City "
   ]
  },
  {
   "cell_type": "code",
   "execution_count": 10,
   "metadata": {},
   "outputs": [],
   "source": [
    "#Make array or list to execute two conditions in single query-->\n",
    "\n",
    "array = ['ABHYUDAYA COOPERATIVE BANK LIMITED', 'VASAI']\n",
    "vall = df.loc[(df['bank_name'].isin(array) & df['city'].isin(array))].reset_index()"
   ]
  },
  {
   "cell_type": "markdown",
   "metadata": {},
   "source": [
    "Convert dataframe to dictionary"
   ]
  },
  {
   "cell_type": "code",
   "execution_count": 11,
   "metadata": {},
   "outputs": [],
   "source": [
    "dd = vall.to_dict()"
   ]
  },
  {
   "cell_type": "markdown",
   "metadata": {},
   "source": [
    "Output ->"
   ]
  },
  {
   "cell_type": "code",
   "execution_count": 12,
   "metadata": {},
   "outputs": [
    {
     "name": "stdout",
     "output_type": "stream",
     "text": [
      "{'index': {0: 41}, 'ifsc': {0: 'ABHY0065043'}, 'bank_id': {0: 60}, 'branch': {0: 'VASAI'}, 'address': {0: 'OM SHIVSHAKTI COMPLEX, VAJRESHWARI ROAD, VALIV VILLAGE, VASAI ROAD (EAST), VASAI 401208'}, 'city': {0: 'VASAI'}, 'district': {0: 'THANE'}, 'state': {0: 'MAHARASHTRA'}, 'bank_name': {0: 'ABHYUDAYA COOPERATIVE BANK LIMITED'}}\n"
     ]
    }
   ],
   "source": [
    "print(dd)"
   ]
  },
  {
   "cell_type": "markdown",
   "metadata": {},
   "source": [
    "Get address of Bank from dictionary"
   ]
  },
  {
   "cell_type": "code",
   "execution_count": 13,
   "metadata": {},
   "outputs": [
    {
     "data": {
      "text/plain": [
       "'OM SHIVSHAKTI COMPLEX, VAJRESHWARI ROAD, VALIV VILLAGE, VASAI ROAD (EAST), VASAI 401208'"
      ]
     },
     "execution_count": 13,
     "metadata": {},
     "output_type": "execute_result"
    }
   ],
   "source": [
    "dd['address'][0]"
   ]
  }
 ],
 "metadata": {
  "kernelspec": {
   "display_name": "Python 3",
   "language": "python",
   "name": "python3"
  },
  "language_info": {
   "codemirror_mode": {
    "name": "ipython",
    "version": 3
   },
   "file_extension": ".py",
   "mimetype": "text/x-python",
   "name": "python",
   "nbconvert_exporter": "python",
   "pygments_lexer": "ipython3",
   "version": "3.8.2"
  }
 },
 "nbformat": 4,
 "nbformat_minor": 4
}
